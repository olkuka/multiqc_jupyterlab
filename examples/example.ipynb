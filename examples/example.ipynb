{
 "cells": [
  {
   "cell_type": "code",
   "execution_count": null,
   "id": "4f819436-5a5f-4036-997f-29d1131d38e5",
   "metadata": {},
   "outputs": [],
   "source": [
    "from multiqc_jupyterlab import MultiQC"
   ]
  },
  {
   "cell_type": "code",
   "execution_count": null,
   "id": "2acf6c0e-9819-426b-8b2c-5add0fc9f23b",
   "metadata": {},
   "outputs": [],
   "source": [
    "m = MultiQC()"
   ]
  },
  {
   "cell_type": "code",
   "execution_count": null,
   "id": "568c2fe3-7e6d-4c4e-a47d-0f5540424d5c",
   "metadata": {},
   "outputs": [],
   "source": [
    "m.load('./data')"
   ]
  },
  {
   "cell_type": "code",
   "execution_count": null,
   "id": "fb246cf2-02b8-4cca-8ac5-702c087ca01f",
   "metadata": {},
   "outputs": [],
   "source": [
    "m.load('./data2')"
   ]
  },
  {
   "cell_type": "code",
   "execution_count": null,
   "id": "99aa8193-f0e0-454d-a519-a1aa9b3f86d9",
   "metadata": {},
   "outputs": [],
   "source": [
    "m.add('./multiqc_data')"
   ]
  },
  {
   "cell_type": "code",
   "execution_count": null,
   "id": "c2ca94f6-89a0-4275-92ba-0db697e180d1",
   "metadata": {},
   "outputs": [],
   "source": [
    "m.get_modules()"
   ]
  },
  {
   "cell_type": "code",
   "execution_count": null,
   "id": "011cb382-5849-4cb4-98d1-ae1088ed175c",
   "metadata": {},
   "outputs": [],
   "source": [
    "m.get_samples('featurecounts')"
   ]
  },
  {
   "cell_type": "code",
   "execution_count": null,
   "id": "4813a64c-bb74-4e35-9dba-f66b160f7d35",
   "metadata": {},
   "outputs": [],
   "source": [
    "m.show('featurecounts', ['SRR3192396_1', 'SRR3192401_1'])"
   ]
  },
  {
   "cell_type": "code",
   "execution_count": null,
   "id": "1c8c0bef-649b-4a92-954d-03ea19b68f1f",
   "metadata": {},
   "outputs": [],
   "source": [
    "m.get_samples('fastqc')"
   ]
  },
  {
   "cell_type": "code",
   "execution_count": null,
   "id": "943f3e44-261e-48b0-854d-623977ff6ed3",
   "metadata": {},
   "outputs": [],
   "source": [
    "m.show('fastqc', ['SRR3192397_2', 'MethylC-Seq_mm_fc_1wk_SRR921767_1'])"
   ]
  }
 ],
 "metadata": {
  "kernelspec": {
   "display_name": "Python 3 (ipykernel)",
   "language": "python",
   "name": "python3"
  },
  "language_info": {
   "codemirror_mode": {
    "name": "ipython",
    "version": 3
   },
   "file_extension": ".py",
   "mimetype": "text/x-python",
   "name": "python",
   "nbconvert_exporter": "python",
   "pygments_lexer": "ipython3",
   "version": "3.9.7"
  },
  "varInspector": {
   "cols": {
    "lenName": 16,
    "lenType": 16,
    "lenVar": 40
   },
   "kernels_config": {
    "python": {
     "delete_cmd_postfix": "",
     "delete_cmd_prefix": "del ",
     "library": "var_list.py",
     "varRefreshCmd": "print(var_dic_list())"
    },
    "r": {
     "delete_cmd_postfix": ") ",
     "delete_cmd_prefix": "rm(",
     "library": "var_list.r",
     "varRefreshCmd": "cat(var_dic_list()) "
    }
   },
   "types_to_exclude": [
    "module",
    "function",
    "builtin_function_or_method",
    "instance",
    "_Feature"
   ],
   "window_display": false
  }
 },
 "nbformat": 4,
 "nbformat_minor": 5
}
